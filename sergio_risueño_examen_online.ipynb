{
  "cells": [
    {
      "cell_type": "markdown",
      "metadata": {
        "id": "view-in-github",
        "colab_type": "text"
      },
      "source": [
        "<a href=\"https://colab.research.google.com/github/SRG2552/ONLINE_DS_THEBRIGDE_Repo_de_Sergio/blob/main/sergio_risue%C3%B1o_examen_online.ipynb\" target=\"_parent\"><img src=\"https://colab.research.google.com/assets/colab-badge.svg\" alt=\"Open In Colab\"/></a>"
      ]
    },
    {
      "cell_type": "markdown",
      "id": "1f1401c1-4dc9-4902-95bf-160715a42a25",
      "metadata": {
        "id": "1f1401c1-4dc9-4902-95bf-160715a42a25"
      },
      "source": [
        "# Prueba de Ramp-up"
      ]
    },
    {
      "cell_type": "markdown",
      "id": "1b34c670-a6dd-482d-9b04-5babee7be17a",
      "metadata": {
        "id": "1b34c670-a6dd-482d-9b04-5babee7be17a"
      },
      "source": [
        "Antes de comenzar, cambia el nombre del archivo notebook poniéndole delante tu nombre y primer apellido:\n",
        "\n",
        "* ``<nombre_apellido>_examen_online.ipynb``"
      ]
    },
    {
      "cell_type": "code",
      "execution_count": 2,
      "id": "c8d9a657-272c-425a-9ac4-ea59f479673c",
      "metadata": {
        "id": "c8d9a657-272c-425a-9ac4-ea59f479673c"
      },
      "outputs": [],
      "source": [
        "# Escribe tu nombre en la variable:\n",
        "nombre_y_apellidos = \"Sergio Risueño\""
      ]
    },
    {
      "cell_type": "code",
      "execution_count": null,
      "id": "2e9f9af5-076c-44ec-9a80-95c0e99cdc58",
      "metadata": {
        "id": "2e9f9af5-076c-44ec-9a80-95c0e99cdc58"
      },
      "outputs": [],
      "source": [
        "\"\"\"\n",
        "Criterios de corrección:\n",
        "\n",
        "ejecución (ausencia de errores y obtención de resultados)\n",
        "estructura del código\n",
        "uso correcto de variables\n",
        "manejo de tipo de variables\n",
        "asignaciones\n",
        "operaciones booleanas\n",
        "manejo lógico de flujos de control y bucles\n",
        "uso de colecciones\n",
        "uso de funciones\n",
        "\"\"\";\n",
        "\n",
        "# Ejemplo de como queremos ver el código para más de un intento:\n",
        "\n",
        "# intento 1\n",
        "#your code\n",
        "\n",
        "# intento 2\n",
        "#your code"
      ]
    },
    {
      "cell_type": "code",
      "execution_count": null,
      "id": "bb16d0e3-3bb9-4f2b-944e-8fc35e628701",
      "metadata": {
        "id": "bb16d0e3-3bb9-4f2b-944e-8fc35e628701"
      },
      "outputs": [],
      "source": [
        "# crea todas las celdas que necesites"
      ]
    },
    {
      "cell_type": "markdown",
      "id": "9e02b8f5-6f66-4e73-acfa-7f8c3977de2a",
      "metadata": {
        "id": "9e02b8f5-6f66-4e73-acfa-7f8c3977de2a"
      },
      "source": [
        "#### Notas y pruebas de apoyo para contestar las preguntas\n",
        "\n",
        "\n",
        "Cualquier código aunque no esté correcto nos dirá más de ti que no escribir nada."
      ]
    },
    {
      "cell_type": "markdown",
      "id": "57d6b062-27f8-4377-b583-d662777b0bd7",
      "metadata": {
        "id": "57d6b062-27f8-4377-b583-d662777b0bd7"
      },
      "source": [
        "__Debes subir este notebook a tu REPO PERSONAL__\n",
        "\n",
        "__Hora: hasta las 21:20 del 08/11/2024__"
      ]
    },
    {
      "cell_type": "markdown",
      "id": "062d81e8",
      "metadata": {
        "id": "062d81e8"
      },
      "source": [
        "#### Ejercicio 1\n",
        "\n",
        "Disponemos de una lista con información sobre varios empleados:\n",
        "\n",
        "    empleados =\n",
        "    [[12345, \"Juan Rodríguez\", 53, [\"Director financiero\"], 2],[56789, \"Laura Pérez\", 41, [\"CEO\", \"Director\", \"Gerente\"], 2],[88354, \"Pedro Álvarez\", 26, [\"Asistente\",\"Gestor comercial\"], 3]]\n",
        "\n",
        "Respecto de cada empleado, la lista contiene cinco elementos: en el primero almacenamos su tfno, en el segundo su nombre, en el tercero su edad, en el cuarto los puestos que ha desempeñado en la empresa (en forma de lista) y en el quinto su código postal.\n",
        "\n",
        "1. Siguiendo la misma estructura, incluye un nuevo empleado en la última posición de la lista empleados.\n",
        "\n",
        "2. Mostrar por pantalla, sin uso de funciones (salvo print) ni bucles:\n",
        "\n",
        "    - El nombre y la edad del tercer empleado de la lista empleados.\n",
        "    - Los puestos desempeñados por Pedro Álvarez, ordenados de atras a adelante (es decir, de Gestor comercial a Asistente)\n",
        "    - Si el nuevo empleado que has añadido tiene más o igual a 60 años, muestra por pantalla los puestos que el nuevo empleado haya desempeñado en la empresa. En caso contrario, muestra los puestos desempeñados por Laura Pérez y Juan Rodriguez."
      ]
    },
    {
      "cell_type": "code",
      "execution_count": 10,
      "id": "ae316b4b",
      "metadata": {
        "colab": {
          "base_uri": "https://localhost:8080/"
        },
        "id": "ae316b4b",
        "outputId": "28e4d5a5-1c6b-4b14-c4f4-1eaf8615edd4"
      },
      "outputs": [
        {
          "output_type": "stream",
          "name": "stdout",
          "text": [
            "Nueva lista de empleados: [[12345, 'Juan Rodríguez', 53, ['Director financiero'], 2], [56789, 'Laura Pérez', 41, ['CEO', 'Director', 'Gerente'], 2], [88354, 'Pedro Álvarez', 26, ['Asistente', 'Gestor comercial'], 3], [28025, 'Pedro Pérez', 30, ['Jefe de Proyecto'], 1]]\n",
            "Puestos desempeñados por Pedro Álvarez: ['Gestor comercial', 'Asistente']\n",
            "Puestos desempeñados por Laura Pérez: ['CEO', 'Director', 'Gerente']\n",
            "Puestos desempeñados por Juan Rodríguez: ['Director financiero']\n"
          ]
        }
      ],
      "source": [
        "empleados=[[12345, \"Juan Rodríguez\", 53, [\"Director financiero\"], 2],[56789, \"Laura Pérez\", 41, [\"CEO\", \"Director\", \"Gerente\"], 2],[88354, \"Pedro Álvarez\", 26, [\"Asistente\",\"Gestor comercial\"], 3]]\n",
        "\n",
        "nuevo_empleado = [28025,\"Pedro Pérez\", 30, [\"Jefe de Proyecto\"],1]\n",
        "empleados.append(nuevo_empleado)\n",
        "\n",
        "print(\"Nueva lista de empleados:\",empleados)\n",
        "print(\"Puestos desempeñados por Pedro Álvarez:\", empleados[2][-2][::-1])\n",
        "\n",
        "if empleados[-1][2] >= 60:\n",
        "  print(\"Puestos desempeñados por el nuevo empleado\",empleados[-1][-2])\n",
        "else:\n",
        "  print(\"Puestos desempeñados por Laura Pérez:\",empleados[1][-2])\n",
        "  print(\"Puestos desempeñados por Juan Rodríguez:\",empleados[0][-2])"
      ]
    },
    {
      "cell_type": "markdown",
      "id": "4da89624-0da3-4f91-aa5c-a084c5ee1b17",
      "metadata": {
        "id": "4da89624-0da3-4f91-aa5c-a084c5ee1b17"
      },
      "source": [
        "#### Ejercicio 2.\n",
        "\n",
        "Escribe un programa que te diga si una letra es una consonante o una vocal. Crea tu propia **FUNCIÓN**\n"
      ]
    },
    {
      "cell_type": "code",
      "execution_count": 18,
      "id": "c58bf610-92de-4a5a-a00d-652279ea33dd",
      "metadata": {
        "colab": {
          "base_uri": "https://localhost:8080/"
        },
        "id": "c58bf610-92de-4a5a-a00d-652279ea33dd",
        "outputId": "ae41dcf1-b94c-44eb-800d-9547259f0767"
      },
      "outputs": [
        {
          "output_type": "stream",
          "name": "stdout",
          "text": [
            "La letra A es una vocal\n",
            "La letra x es una consonante\n",
            "El valor proporcionado no es una letra. Prueba de nuevo\n"
          ]
        }
      ],
      "source": [
        "def vocal_consonante (letra):\n",
        "  try:\n",
        "    letra = str(letra)\n",
        "    vocales=[\"a\",\"e\",\"i\",\"o\",\"u\"]\n",
        "    consonantes = [\"b\",\"c\",\"d\",\"f\",\"g\",\"h\",\"j\",\"k\",\"l\",\"m\",\"n\",\"p\",\"q\",\"r\",\"s\",\"t\",\"v\",\"w\",\"x\",\"y\",\"z\"]\n",
        "    if letra.lower() in vocales:\n",
        "      print(f\"La letra {letra} es una vocal\")\n",
        "    elif letra.lower() in consonantes:\n",
        "      print(f\"La letra {letra} es una consonante\")\n",
        "    else:\n",
        "      print(\"El valor proporcionado no es una letra. Prueba de nuevo\")\n",
        "  except:\n",
        "    print(\"El formato de dato introducido no es valido\")\n",
        "\n",
        "vocal_consonante(\"A\")\n",
        "vocal_consonante(\"x\")\n",
        "vocal_consonante(45)\n"
      ]
    },
    {
      "cell_type": "markdown",
      "id": "52065a6c-3d4c-44c0-a10b-958506c481b3",
      "metadata": {
        "id": "52065a6c-3d4c-44c0-a10b-958506c481b3"
      },
      "source": [
        "#### Ejercicio 3.\n",
        "\n",
        "Escribe un programa que calcule la edad humana de un perro.\n",
        "Tienes que pedirle al usuario la edad del perro en años.\n",
        "Si el usuario introduce un número negativo, imprime que la cifra facilitada no tiene sentido. Si el perro tiene un año, son 14 años humanos. Si tiene 2 años, son 22 años humanos.\n",
        "A partir de los 2 años, el cálculo es el siguiente: a la edad del perro se le restan 2 años, el resultado se multiplica por 5 y, finalmente, se le suma 22.\n",
        "Usa una función sin argumentos de entrada ni de salida (muestra toda la información con print())"
      ]
    },
    {
      "cell_type": "code",
      "execution_count": 20,
      "id": "9c59c801-1fe1-4a6d-a000-f85ca738ed00",
      "metadata": {
        "colab": {
          "base_uri": "https://localhost:8080/"
        },
        "id": "9c59c801-1fe1-4a6d-a000-f85ca738ed00",
        "outputId": "9334519d-7d2d-4582-fc5e-266ebad5a807"
      },
      "outputs": [
        {
          "output_type": "stream",
          "name": "stdout",
          "text": [
            "Introduce la edad de tu perro hola\n",
            "\n",
            "Input erroneo. Comprueba que la edad introducida sea un número entero 9.56\n",
            "\n",
            "Input erroneo. Comprueba que la edad introducida sea un número entero5\n",
            "La edad humana de tu perro es: 37 años.\n"
          ]
        }
      ],
      "source": [
        "edad_introducida = input(\"Introduce la edad de tu perro\")\n",
        "\n",
        "# Hacemos un primer bucle para filtrar que no se introduzcan numeros tipo float con decimales\n",
        "flag = False\n",
        "while flag == False:\n",
        "  if \".\" in edad_introducida or \",\" in edad_introducida:\n",
        "    edad_introducida = input(\"\\nComprueba que la edad introducida sea un número entero y no un float\")\n",
        "  else:\n",
        "  # Hacemos un segundo bucle para filtrar que no se introduzcan valores de tipo no entero\n",
        "    while flag == False:\n",
        "      try:\n",
        "        edad_introducida=int(edad_introducida)\n",
        "        flag = True\n",
        "      except:\n",
        "        edad_introducida = input(\"\\nInput erroneo. Comprueba que la edad introducida sea un número entero\")\n",
        "\n",
        "if edad_introducida < 0:\n",
        "  print(\"La edad introducida no tiene sentido\")\n",
        "elif edad_introducida==0:\n",
        "  print(\"La edad humana de tu perro es: 0 años.\")\n",
        "elif edad_introducida==1:\n",
        "  print(\"La edad humana de tu perro es: 14 años.\")\n",
        "elif edad_introducida==2:\n",
        "  print(\"La edad humana de tu perro es: 22 años.\")\n",
        "elif edad_introducida>2:\n",
        "  edad_humana = (edad_introducida - 2)*5 + 22\n",
        "  print(\"La edad humana de tu perro es:\",edad_humana,\"años.\")"
      ]
    },
    {
      "cell_type": "markdown",
      "id": "2991309f-4208-431a-900c-d9bc734bb936",
      "metadata": {
        "id": "2991309f-4208-431a-900c-d9bc734bb936"
      },
      "source": [
        "#### Ejercicio 4.\n",
        "\n",
        "Escribe un programa que te diga si una frase es un pangrama. Un pangrama es una frase que contiene todas las letras del alfabeto.\n",
        "Puedes tener espacios en blanco, pero NO  tendrás signos de puntuación, a excepción de las tildes.\n",
        "\n",
        "Ejemplo de pangrama:\n",
        "\n",
        "Extraño pan de col y kiwi se quemó bajo fugaz vaho"
      ]
    },
    {
      "cell_type": "code",
      "execution_count": 24,
      "id": "9a349c1e-15ab-4253-97f8-2a07a263791d",
      "metadata": {
        "colab": {
          "base_uri": "https://localhost:8080/"
        },
        "id": "9a349c1e-15ab-4253-97f8-2a07a263791d",
        "outputId": "71b3d443-bd1f-458c-e0a8-24f67f9d51b1"
      },
      "outputs": [
        {
          "output_type": "stream",
          "name": "stdout",
          "text": [
            "La frase es un pangrama\n"
          ]
        }
      ],
      "source": [
        "vocales=[\"a\",\"e\",\"i\",\"o\",\"u\"]\n",
        "consonantes = [\"b\",\"c\",\"d\",\"f\",\"g\",\"h\",\"j\",\"k\",\"l\",\"m\",\"n\",\"p\",\"q\",\"r\",\"s\",\"t\",\"v\",\"w\",\"x\",\"y\",\"z\"]\n",
        "\n",
        "alfabeto = vocales + consonantes\n",
        "\n",
        "frase = \"Extraño pan de col y kiwi se quemó bajo fugaz vaho\"\n",
        "\n",
        "#Esto va a crear una lista con un bool para cada letra del alfabeto\n",
        "#Si la letra del alfabeto está en la frase, se añade un True\n",
        "#Si no está, se añade un False\n",
        "lista_comprobacion = []\n",
        "for letra in alfabeto:\n",
        "  if letra in frase:\n",
        "    lista_comprobacion.append(True)\n",
        "  else:\n",
        "    lista_comprobacion.append(False)\n",
        "\n",
        "#Si hay algun false en la lista, es que alguna letra no está y no es un pangrama\n",
        "#Solo es un pangrama si False no está en la lista de comprobacion\n",
        "if False in lista_comprobacion:\n",
        "  print(\"La frase no es un pangrama\")\n",
        "else:\n",
        "  print(\"La frase es un pangrama\")"
      ]
    },
    {
      "cell_type": "code",
      "source": [
        "#Probamos con otra frase\n",
        "\n",
        "frase2 = \"Hola buenas tardes\"\n",
        "\n",
        "lista_comprobacion = []\n",
        "for letra in alfabeto:\n",
        "  if letra in frase2:\n",
        "    lista_comprobacion.append(True)\n",
        "  else:\n",
        "    lista_comprobacion.append(False)\n",
        "\n",
        "if False in lista_comprobacion:\n",
        "  print(\"La frase no es un pangrama\")\n",
        "else:\n",
        "  print(\"La frase es un pangrama\")"
      ],
      "metadata": {
        "colab": {
          "base_uri": "https://localhost:8080/"
        },
        "id": "KHFPWADaPlpE",
        "outputId": "a4345bd0-87e4-4be9-9ab0-34a28e5b8f0e"
      },
      "id": "KHFPWADaPlpE",
      "execution_count": 25,
      "outputs": [
        {
          "output_type": "stream",
          "name": "stdout",
          "text": [
            "La frase no es un pangrama\n"
          ]
        }
      ]
    },
    {
      "cell_type": "markdown",
      "id": "3dbb76e0-79b2-45e8-9034-58ee9cbd82bb",
      "metadata": {
        "id": "3dbb76e0-79b2-45e8-9034-58ee9cbd82bb"
      },
      "source": [
        "#### Ejercicio 5.\n",
        "\n",
        "Escribe un programa que use diccionarios para traducir palabras entre varios idiomas.\n",
        "Deberás pedirle al usuario una palabra por teclado, ver si está en tu diccionario. En caso de que esté, deberás mostrar la traducción de esa palabra.\n",
        "\n",
        "Ejemplo de diccionario:\n",
        "\n",
        "```python\n",
        "{\"file\": \"Fichier\", \"new\": \"Nouveau\", \"open\": \"Ouvrir\", \"save\": \"Enregistrer\", \"save as\": \"Enregistrer sous\", \"print preview\": \"Apercu avant impressioner\", \"print\": \"Imprimer\", \"close\": \"Fermer\", \"exit\": \"Quitter\"}\n"
      ]
    },
    {
      "cell_type": "code",
      "execution_count": 34,
      "id": "88236123-e8ac-45da-87d0-134a88a690c1",
      "metadata": {
        "id": "88236123-e8ac-45da-87d0-134a88a690c1"
      },
      "outputs": [],
      "source": [
        "#Usamos el diccionario de ejemplo como referencia para el ejemplo\n",
        "\n",
        "dict_palabras = {\"file\": \"Fichier\", \"new\": \"Nouveau\", \"open\": \"Ouvrir\", \"save\": \"Enregistrer\", \"save as\": \"Enregistrer sous\", \"print preview\": \"Apercu avant impressioner\", \"print\": \"Imprimer\", \"close\": \"Fermer\", \"exit\": \"Quitter\"}\n",
        "\n",
        "def traducir(diccionario_palabras):\n",
        "  palabra = input(\"Introduce una palabra a traducir\")\n",
        "  if palabra.lower() in diccionario_palabras.keys():\n",
        "    print(f\"La traduccion de {palabra} es {diccionario_palabras[palabra.lower()]}\")\n",
        "  else:\n",
        "    print(\"La palabra no está en el diccionario\")"
      ]
    },
    {
      "cell_type": "code",
      "source": [
        "traducir(diccionario_palabras=dict_palabras)"
      ],
      "metadata": {
        "colab": {
          "base_uri": "https://localhost:8080/"
        },
        "id": "auEnMy0jQxzG",
        "outputId": "1bfd642a-5fa2-42dd-ac1d-485341f095a6"
      },
      "id": "auEnMy0jQxzG",
      "execution_count": 32,
      "outputs": [
        {
          "output_type": "stream",
          "name": "stdout",
          "text": [
            "Introduce una palabra a traducir Hello\n",
            "La palabra no está en el diccionario\n"
          ]
        }
      ]
    },
    {
      "cell_type": "code",
      "source": [
        "traducir(diccionario_palabras=dict_palabras)"
      ],
      "metadata": {
        "colab": {
          "base_uri": "https://localhost:8080/"
        },
        "id": "bWTBSDWIRB5h",
        "outputId": "90b5117a-1c4e-4978-9110-662e8c0a56ba"
      },
      "id": "bWTBSDWIRB5h",
      "execution_count": 35,
      "outputs": [
        {
          "output_type": "stream",
          "name": "stdout",
          "text": [
            "Introduce una palabra a traducirFile\n",
            "La traduccion de File es Fichier\n"
          ]
        }
      ]
    },
    {
      "cell_type": "markdown",
      "id": "61967ca4-7e06-44b3-ad7b-adbc0e71671a",
      "metadata": {
        "id": "61967ca4-7e06-44b3-ad7b-adbc0e71671a"
      },
      "source": [
        "#### Ejercicio 6. (Bonus).\n",
        "\n",
        "Usando `OOP` modela un theremin (es un instrumento musical que se toca modificando el campo electromagnético, por si tenías curiosidad).\n",
        "Tendrá de atributos la marca, el modelo, el peso, la potencia y la batería.\n",
        "\n",
        "Todos los instrumentos se crean con un peso predeterminado de 500, una potencia de 50 y una batería de 200.\n",
        "\n",
        "Cuando se recarga la batería vale 200.\n",
        "\n",
        "Cuando se toca, se muestra por pantalla que está sonando y la batería disminuye 10 (no siendo nunca negativo).\n",
        "Si no hay batería, no puede sonar. Crea un instrumento, tócalo mientras quede batería, cárgalo y no lo vuelvas a tocar.\n"
      ]
    },
    {
      "cell_type": "code",
      "execution_count": 40,
      "id": "8082c8cd-03a9-478e-aa72-4ec1306e1bb2",
      "metadata": {
        "colab": {
          "base_uri": "https://localhost:8080/"
        },
        "id": "8082c8cd-03a9-478e-aa72-4ec1306e1bb2",
        "outputId": "0c226df6-abf0-40ac-db80-8750a8c81080"
      },
      "outputs": [
        {
          "output_type": "stream",
          "name": "stdout",
          "text": [
            "El theremin de marca marca_rusa y modelo Sputnik está sonando.\n",
            "El theremin de marca marca_rusa y modelo Sputnik está sonando.\n",
            "El theremin de marca marca_rusa y modelo Sputnik está sonando.\n",
            "El theremin de marca marca_rusa y modelo Sputnik está sonando.\n",
            "El theremin de marca marca_rusa y modelo Sputnik está sonando.\n",
            "El theremin no tiene bateria y no se puede tocar.\n",
            "El theremin ha sido recargado. Su bateria es de 200\n"
          ]
        }
      ],
      "source": [
        "class Theremin():\n",
        "  def __init__(self, marca, modelo, peso = 500, potencia = 50, bateria = 200):\n",
        "    self.marca = marca\n",
        "    self.modelo = modelo\n",
        "    self.peso = peso\n",
        "    self.potencia = potencia\n",
        "    self.bateria = bateria\n",
        "\n",
        "  def recarga (self):\n",
        "    self.bateria = 200\n",
        "    print(\"El theremin ha sido recargado. Su bateria es de 200\")\n",
        "\n",
        "  def tocar (self):\n",
        "    if self.bateria > 0:\n",
        "      print(\"El theremin de marca\",self.marca, \"y modelo\",self.modelo,\"está sonando.\")\n",
        "      self.bateria = self.bateria - 10\n",
        "    if self.bateria <=0:\n",
        "      print(\"El theremin no tiene bateria y no se puede tocar.\")\n",
        "\n",
        "mi_theremin = Theremin(marca = \"marca_rusa\", modelo = \"Sputnik\", bateria = 50)\n",
        "\n",
        "while mi_theremin.bateria > 0:\n",
        "  mi_theremin.tocar()\n",
        "\n",
        "mi_theremin.recarga()\n",
        ""
      ]
    },
    {
      "cell_type": "markdown",
      "id": "30f773b5-a6da-4446-b36b-722b2ee57730",
      "metadata": {
        "id": "30f773b5-a6da-4446-b36b-722b2ee57730"
      },
      "source": [
        "#### Ejercicio 7. Extra (NO PUNTÚA).\n",
        "Una empresa usa dos listas  para guardar la información de sus empleados. Una lista guarda el nombre del empleado y la otra guarda su salario. Escribe un programa que cree esas dos listas originalmente vacías y que a través de un menú pueda hacer lo siguiente:\n",
        "    \n",
        "Inserta 1 para añadir un nuevo empleado y su salario\n",
        "\n",
        "Inserta 2 para imprimir los nombres y salarios de todos los empleados\n",
        "\n",
        "Inserta 3 para mostrar el número de empleados\n",
        "\n",
        "Inserta 4 para imprimir los nombres de los empleados con sueldos superiores a 400000\n",
        "\n",
        "Inserta 5 para subir un 5% los sueldos por debajo de 10000\n",
        "\n",
        "Inserta 6 para mostrar el total de todos los salarios\n",
        "\n",
        "Inserta 7 para salir del programa"
      ]
    },
    {
      "cell_type": "code",
      "execution_count": 68,
      "id": "67858e27-b7f5-4e05-bc50-3fca698ad22a",
      "metadata": {
        "id": "67858e27-b7f5-4e05-bc50-3fca698ad22a"
      },
      "outputs": [],
      "source": [
        "lista_nombres = [\"Alberto Perez\"]\n",
        "lista_salarios = [100000.0]"
      ]
    },
    {
      "cell_type": "code",
      "source": [
        "print(\"¡Bienvenido!\\n\")\n",
        "print(\"Inserta 1 para añadir un nuevo empleado y su salario\")\n",
        "print(\"Inserta 2 para imprimir los nombres y salarios de todos los empleados\")\n",
        "print(\"Inserta 3 para mostrar el número de empleados\")\n",
        "print(\"Inserta 4 para imprimir los nombres de los empleados con sueldos superiores a 400000\")\n",
        "print(\"Inserta 5 para subir un 5% los sueldos por debajo de 10000\")\n",
        "print(\"Inserta 6 para mostrar el total de todos los salarios\")\n",
        "print(\"Inserta 7 para salir del programa\\n\")\n",
        "\n",
        "input_usuario = 0\n",
        "\n",
        "while input_usuario !=7:\n",
        "  input_usuario = input(\"\\n Seleciona el menu:  \")\n",
        "  flag = False\n",
        "  while flag == False:\n",
        "    #Como en el ejercicio anterior, comprobamos que el valor es un entero y que no sale del rango del menu\n",
        "    try:\n",
        "      input_usuario = int(input_usuario)\n",
        "      if input_usuario < 1 or input_usuario > 7:\n",
        "        print(\"Error de input. El valor introducido no es valido.\\n\")\n",
        "        input_usuario = input()\n",
        "      else:\n",
        "        flag = True\n",
        "\n",
        "    except:\n",
        "      print(\"Error de input. El valor introducido no es valido.\\n\")\n",
        "      input_usuario = input()\n",
        "\n",
        "  #Menu 1\n",
        "  if input_usuario == 1:\n",
        "    lista_nombres.append(input(\"Introduce el nombre del empleado:  \"))\n",
        "\n",
        "    #Habria que comprobar como en el caso anterior que el salario es un numero y no negativo\n",
        "    #Pero no me da tiempo :-)\n",
        "\n",
        "    lista_salarios.append(float(input(\"Introduce el salario del empleado:  \")))\n",
        "\n",
        "  elif input_usuario == 2:\n",
        "\n",
        "    for nombre, salario in zip(lista_nombres,lista_salarios):\n",
        "      print(\"Empleado: \",nombre, \"Salario: \", salario)\n",
        "\n",
        "  elif input_usuario == 3:\n",
        "    print(\"Numero de empleados: \", len(lista_nombres))\n",
        "\n",
        "  elif input_usuario == 4:\n",
        "\n",
        "    for index, salario in enumerate (lista_salarios):\n",
        "      if salario >= 40000:\n",
        "        print(\"El empleado\", lista_nombres[index], \"tiene un salario de:\", salario)\n",
        "\n",
        "  elif input_usuario == 5:\n",
        "\n",
        "    for index, salario in enumerate (lista_salarios):\n",
        "      if salario <= 10000:\n",
        "        lista_salarios[index] = salario * 1.05\n",
        "        print(\"Nuevo salario del empleado:\", lista_nombres[index],\" = \", lista_salarios[index])\n",
        "\n",
        "  elif input_usuario == 6:\n",
        "    print(\"Suma de todos los salarios:\", sum(lista_salarios))\n",
        "\n",
        "  elif input_usuario == 7:\n",
        "    print(\"Saliendo del programa...\")\n",
        "    break\n",
        "\n",
        ""
      ],
      "metadata": {
        "colab": {
          "base_uri": "https://localhost:8080/"
        },
        "id": "wzVDJjHITtzL",
        "outputId": "225eeb94-7ef4-43d4-b08b-154cbcbcf15d"
      },
      "id": "wzVDJjHITtzL",
      "execution_count": 69,
      "outputs": [
        {
          "output_type": "stream",
          "name": "stdout",
          "text": [
            "¡Bienvenido!\n",
            "\n",
            "Inserta 1 para añadir un nuevo empleado y su salario\n",
            "Inserta 2 para imprimir los nombres y salarios de todos los empleados\n",
            "Inserta 3 para mostrar el número de empleados\n",
            "Inserta 4 para imprimir los nombres de los empleados con sueldos superiores a 400000\n",
            "Inserta 5 para subir un 5% los sueldos por debajo de 10000\n",
            "Inserta 6 para mostrar el total de todos los salarios\n",
            "Inserta 7 para salir del programa\n",
            "\n",
            "\n",
            " Seleciona el menu:  Hola\n",
            "Error de input. El valor introducido no es valido.\n",
            "\n",
            "9\n",
            "Error de input. El valor introducido no es valido.\n",
            "\n",
            "1\n",
            "Introduce el nombre del empleado:  Benito Perez\n",
            "Introduce el salario del empleado:  45000\n",
            "\n",
            " Seleciona el menu:  Alvaro Alvarez\n",
            "Error de input. El valor introducido no es valido.\n",
            "\n",
            "1\n",
            "Introduce el nombre del empleado:  Alvaro Alvarez\n",
            "Introduce el salario del empleado:  8000\n",
            "\n",
            " Seleciona el menu:  5\n",
            "Nuevo salario del empleado: Alvaro Alvarez  =  8400.0\n",
            "\n",
            " Seleciona el menu:  4\n",
            "El empleado Alberto Perez tiene un salario de: 100000.0\n",
            "El empleado Benito Perez tiene un salario de: 45000.0\n",
            "\n",
            " Seleciona el menu:  6\n",
            "Suma de todos los salarios: 153400.0\n",
            "\n",
            " Seleciona el menu:  7\n",
            "Saliendo del programa...\n"
          ]
        }
      ]
    },
    {
      "cell_type": "markdown",
      "id": "e33a0e21-476e-4103-b889-a6b3e76b99f3",
      "metadata": {
        "id": "e33a0e21-476e-4103-b889-a6b3e76b99f3"
      },
      "source": [
        "\n",
        "####  Ejercicio 8. EXTRA (NO PUNTÚA).\n",
        "\n",
        "Escribe un programa que __USE RECURSIVIDAD__ para decidir cuál es la película de Pixar favorita de un usuario.\n",
        "El programa preguntará al usuario cuál de 2 películas es su favorita, y con esa favorita se le volverá a preguntar entre esa y otra película cuál es su favorita...y así hasta que el usuario haya decidido de entre todas cuál es su favorita.\n",
        "\n",
        "Pista: si no quieres cambiar una lista, usa copy() y tendrás una copia que es otro objeto\n",
        "\n"
      ]
    },
    {
      "cell_type": "code",
      "execution_count": null,
      "id": "c9936fd4-6d29-4535-9f34-a6f289d18d8b",
      "metadata": {
        "id": "c9936fd4-6d29-4535-9f34-a6f289d18d8b",
        "outputId": "1ab4cb04-f390-4d0a-8939-9e1f483f292d"
      },
      "outputs": [
        {
          "name": "stdout",
          "output_type": "stream",
          "text": [
            "Si prefieres Toy Story marca 1, si prefieres Soul marca 2: 1\n",
            "Prefieres Toy Story\n",
            "Si prefieres Toy Story marca 1, si prefieres Up marca 2: 2\n",
            "Prefieres Up\n",
            "Si prefieres Up marca 1, si prefieres Coco marca 2: 2\n",
            "Prefieres Coco\n",
            "Si prefieres Coco marca 1, si prefieres Luca marca 2: 1\n",
            "Prefieres Coco\n",
            "Si prefieres Coco marca 1, si prefieres Monsters marca 2: 2\n",
            "Prefieres Monsters\n",
            "Si prefieres Monsters marca 1, si prefieres Inside Out marca 2: 1\n",
            "Prefieres Monsters\n",
            "Si prefieres Monsters marca 1, si prefieres WallE marca 2: 2\n",
            "Prefieres WallE\n",
            "Si prefieres WallE marca 1, si prefieres Buscando a Nemo marca 2: 2\n",
            "Prefieres Buscando a Nemo\n",
            "Si prefieres Buscando a Nemo marca 1, si prefieres Los increíbles marca 2: 1\n",
            "Prefieres Buscando a Nemo\n",
            "\n",
            "Prefieres finalmente Buscando a Nemo\n"
          ]
        }
      ],
      "source": []
    },
    {
      "cell_type": "code",
      "execution_count": null,
      "id": "10a7b881",
      "metadata": {
        "id": "10a7b881"
      },
      "outputs": [],
      "source": [
        "# FIN DEL EXAMEN"
      ]
    }
  ],
  "metadata": {
    "kernelspec": {
      "display_name": "Python 3 (ipykernel)",
      "language": "python",
      "name": "python3"
    },
    "language_info": {
      "codemirror_mode": {
        "name": "ipython",
        "version": 3
      },
      "file_extension": ".py",
      "mimetype": "text/x-python",
      "name": "python",
      "nbconvert_exporter": "python",
      "pygments_lexer": "ipython3",
      "version": "3.10.undefined"
    },
    "vscode": {
      "interpreter": {
        "hash": "252189e587d1e2aeba4a06e91fa71896c7a7f6e22e918b9407c7cde4ef2d5985"
      }
    },
    "colab": {
      "provenance": [],
      "include_colab_link": true
    }
  },
  "nbformat": 4,
  "nbformat_minor": 5
}
