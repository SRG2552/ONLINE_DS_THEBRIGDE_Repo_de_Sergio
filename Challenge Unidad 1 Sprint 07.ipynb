{
 "cells": [
  {
   "cell_type": "markdown",
   "metadata": {
    "id": "3p1epWr5FAfL"
   },
   "source": [
    "![image.png](attachment:image.png)"
   ]
  },
  {
   "cell_type": "markdown",
   "metadata": {
    "id": "OB-W5yQJFAfP"
   },
   "source": [
    "## PRACTICA OBLIGATORIA: ANÁLISIS UNIVARIANTE"
   ]
  },
  {
   "cell_type": "markdown",
   "metadata": {
    "id": "BA8132hlFAfP"
   },
   "source": [
    "* La práctica obligatoria de esta unidad consiste en hacer el análisis univariante completo de un dataset con el que acabarás muy familiarizado, el manifiesto de pasajeros del Titanic. Descarga este notebook en tu ordenador y trabaja en local. Ten en cuenta que tendrás que descar los directorios de imágenes y datos adicionales, si los hubiera.\n",
    "* Recuerda que debes subirla a tu repositorio personal antes de la sesión en vivo para que puntúe adecuadamente.  \n",
    "* Recuerda también que no es necesario que esté perfecta, sólo es necesario que se vea el esfuerzo.\n",
    "* Esta práctica se resolverá en la sesión en vivo correspondiente y la solución se publicará en el repo del curso."
   ]
  },
  {
   "cell_type": "markdown",
   "metadata": {
    "id": "G6DqGoA9FAfQ"
   },
   "source": [
    "### Ejercicio 0\n",
    "\n",
    "Importa los paquetes y módulos que necesites a lo largo del notebook. Te dejo una que vas a necesitar sí o sí"
   ]
  },
  {
   "cell_type": "code",
   "execution_count": 1,
   "metadata": {
    "colab": {
     "base_uri": "https://localhost:8080/"
    },
    "executionInfo": {
     "elapsed": 25132,
     "status": "ok",
     "timestamp": 1732987134645,
     "user": {
      "displayName": "Sergio Risueño",
      "userId": "05954324726416345958"
     },
     "user_tz": -60
    },
    "id": "Yummxj-SFAfQ",
    "outputId": "631b5f89-6604-4871-a4ba-bfedaed3e6ee"
   },
   "outputs": [],
   "source": [
    "import pandas as pd\n",
    "import matplotlib.pyplot as plt\n",
    "import seaborn as sns\n"
   ]
  },
  {
   "cell_type": "markdown",
   "metadata": {
    "id": "CSw_x0qVFAfR"
   },
   "source": [
    "### #1 Preparación\n"
   ]
  },
  {
   "cell_type": "markdown",
   "metadata": {
    "id": "spJT_aO0FAfR"
   },
   "source": [
    "### #1.1"
   ]
  },
  {
   "cell_type": "markdown",
   "metadata": {
    "id": "d8SpVsJFFAfS"
   },
   "source": [
    "\n",
    "Carga en un dataframe los datos del titanic a partir de un dataset de seaborn. Para ello:\n",
    "\n",
    "* ejecuta ```python sns.get_dataset_names()```\n",
    "* localiza el nombre que puede ser el adecuado para el ejercicio\n",
    "* Asigna la salida de ```sns.load_dataset(<nombre_del_dataset>)``` a una variable \"df_titanic\""
   ]
  },
  {
   "cell_type": "code",
   "execution_count": 2,
   "metadata": {
    "executionInfo": {
     "elapsed": 5,
     "status": "ok",
     "timestamp": 1732987166566,
     "user": {
      "displayName": "Sergio Risueño",
      "userId": "05954324726416345958"
     },
     "user_tz": -60
    },
    "id": "V56qyx_1FAfS"
   },
   "outputs": [],
   "source": [
    "df_titanic = sns.load_dataset(\"titanic\")"
   ]
  },
  {
   "cell_type": "markdown",
   "metadata": {
    "id": "s8NVLOlLFAfS"
   },
   "source": [
    "### #1.2\n",
    "\n",
    "Muestra una porción del dataset (\"df_titanic\") y su info general. ¿Hay nulos?"
   ]
  },
  {
   "cell_type": "code",
   "execution_count": 3,
   "metadata": {
    "colab": {
     "base_uri": "https://localhost:8080/",
     "height": 206
    },
    "executionInfo": {
     "elapsed": 251,
     "status": "ok",
     "timestamp": 1732987190720,
     "user": {
      "displayName": "Sergio Risueño",
      "userId": "05954324726416345958"
     },
     "user_tz": -60
    },
    "id": "Bs2B8NFfFAfS",
    "outputId": "f8954fb1-c1bb-4213-ab0d-907e189070c0"
   },
   "outputs": [
    {
     "data": {
      "text/html": [
       "<div>\n",
       "<style scoped>\n",
       "    .dataframe tbody tr th:only-of-type {\n",
       "        vertical-align: middle;\n",
       "    }\n",
       "\n",
       "    .dataframe tbody tr th {\n",
       "        vertical-align: top;\n",
       "    }\n",
       "\n",
       "    .dataframe thead th {\n",
       "        text-align: right;\n",
       "    }\n",
       "</style>\n",
       "<table border=\"1\" class=\"dataframe\">\n",
       "  <thead>\n",
       "    <tr style=\"text-align: right;\">\n",
       "      <th></th>\n",
       "      <th>survived</th>\n",
       "      <th>pclass</th>\n",
       "      <th>sex</th>\n",
       "      <th>age</th>\n",
       "      <th>sibsp</th>\n",
       "      <th>parch</th>\n",
       "      <th>fare</th>\n",
       "      <th>embarked</th>\n",
       "      <th>class</th>\n",
       "      <th>who</th>\n",
       "      <th>adult_male</th>\n",
       "      <th>deck</th>\n",
       "      <th>embark_town</th>\n",
       "      <th>alive</th>\n",
       "      <th>alone</th>\n",
       "    </tr>\n",
       "  </thead>\n",
       "  <tbody>\n",
       "    <tr>\n",
       "      <th>0</th>\n",
       "      <td>0</td>\n",
       "      <td>3</td>\n",
       "      <td>male</td>\n",
       "      <td>22.0</td>\n",
       "      <td>1</td>\n",
       "      <td>0</td>\n",
       "      <td>7.2500</td>\n",
       "      <td>S</td>\n",
       "      <td>Third</td>\n",
       "      <td>man</td>\n",
       "      <td>True</td>\n",
       "      <td>NaN</td>\n",
       "      <td>Southampton</td>\n",
       "      <td>no</td>\n",
       "      <td>False</td>\n",
       "    </tr>\n",
       "    <tr>\n",
       "      <th>1</th>\n",
       "      <td>1</td>\n",
       "      <td>1</td>\n",
       "      <td>female</td>\n",
       "      <td>38.0</td>\n",
       "      <td>1</td>\n",
       "      <td>0</td>\n",
       "      <td>71.2833</td>\n",
       "      <td>C</td>\n",
       "      <td>First</td>\n",
       "      <td>woman</td>\n",
       "      <td>False</td>\n",
       "      <td>C</td>\n",
       "      <td>Cherbourg</td>\n",
       "      <td>yes</td>\n",
       "      <td>False</td>\n",
       "    </tr>\n",
       "    <tr>\n",
       "      <th>2</th>\n",
       "      <td>1</td>\n",
       "      <td>3</td>\n",
       "      <td>female</td>\n",
       "      <td>26.0</td>\n",
       "      <td>0</td>\n",
       "      <td>0</td>\n",
       "      <td>7.9250</td>\n",
       "      <td>S</td>\n",
       "      <td>Third</td>\n",
       "      <td>woman</td>\n",
       "      <td>False</td>\n",
       "      <td>NaN</td>\n",
       "      <td>Southampton</td>\n",
       "      <td>yes</td>\n",
       "      <td>True</td>\n",
       "    </tr>\n",
       "    <tr>\n",
       "      <th>3</th>\n",
       "      <td>1</td>\n",
       "      <td>1</td>\n",
       "      <td>female</td>\n",
       "      <td>35.0</td>\n",
       "      <td>1</td>\n",
       "      <td>0</td>\n",
       "      <td>53.1000</td>\n",
       "      <td>S</td>\n",
       "      <td>First</td>\n",
       "      <td>woman</td>\n",
       "      <td>False</td>\n",
       "      <td>C</td>\n",
       "      <td>Southampton</td>\n",
       "      <td>yes</td>\n",
       "      <td>False</td>\n",
       "    </tr>\n",
       "    <tr>\n",
       "      <th>4</th>\n",
       "      <td>0</td>\n",
       "      <td>3</td>\n",
       "      <td>male</td>\n",
       "      <td>35.0</td>\n",
       "      <td>0</td>\n",
       "      <td>0</td>\n",
       "      <td>8.0500</td>\n",
       "      <td>S</td>\n",
       "      <td>Third</td>\n",
       "      <td>man</td>\n",
       "      <td>True</td>\n",
       "      <td>NaN</td>\n",
       "      <td>Southampton</td>\n",
       "      <td>no</td>\n",
       "      <td>True</td>\n",
       "    </tr>\n",
       "  </tbody>\n",
       "</table>\n",
       "</div>"
      ],
      "text/plain": [
       "   survived  pclass     sex   age  sibsp  parch     fare embarked  class  \\\n",
       "0         0       3    male  22.0      1      0   7.2500        S  Third   \n",
       "1         1       1  female  38.0      1      0  71.2833        C  First   \n",
       "2         1       3  female  26.0      0      0   7.9250        S  Third   \n",
       "3         1       1  female  35.0      1      0  53.1000        S  First   \n",
       "4         0       3    male  35.0      0      0   8.0500        S  Third   \n",
       "\n",
       "     who  adult_male deck  embark_town alive  alone  \n",
       "0    man        True  NaN  Southampton    no  False  \n",
       "1  woman       False    C    Cherbourg   yes  False  \n",
       "2  woman       False  NaN  Southampton   yes   True  \n",
       "3  woman       False    C  Southampton   yes  False  \n",
       "4    man        True  NaN  Southampton    no   True  "
      ]
     },
     "execution_count": 3,
     "metadata": {},
     "output_type": "execute_result"
    }
   ],
   "source": [
    "df_titanic.head()"
   ]
  },
  {
   "cell_type": "code",
   "execution_count": 4,
   "metadata": {
    "colab": {
     "base_uri": "https://localhost:8080/"
    },
    "executionInfo": {
     "elapsed": 216,
     "status": "ok",
     "timestamp": 1732987193949,
     "user": {
      "displayName": "Sergio Risueño",
      "userId": "05954324726416345958"
     },
     "user_tz": -60
    },
    "id": "64rrWUM9FbsC",
    "outputId": "5b41d67d-93c9-4fc8-e3ce-45cc106f741d"
   },
   "outputs": [
    {
     "name": "stdout",
     "output_type": "stream",
     "text": [
      "<class 'pandas.core.frame.DataFrame'>\n",
      "RangeIndex: 891 entries, 0 to 890\n",
      "Data columns (total 15 columns):\n",
      " #   Column       Non-Null Count  Dtype   \n",
      "---  ------       --------------  -----   \n",
      " 0   survived     891 non-null    int64   \n",
      " 1   pclass       891 non-null    int64   \n",
      " 2   sex          891 non-null    object  \n",
      " 3   age          714 non-null    float64 \n",
      " 4   sibsp        891 non-null    int64   \n",
      " 5   parch        891 non-null    int64   \n",
      " 6   fare         891 non-null    float64 \n",
      " 7   embarked     889 non-null    object  \n",
      " 8   class        891 non-null    category\n",
      " 9   who          891 non-null    object  \n",
      " 10  adult_male   891 non-null    bool    \n",
      " 11  deck         203 non-null    category\n",
      " 12  embark_town  889 non-null    object  \n",
      " 13  alive        891 non-null    object  \n",
      " 14  alone        891 non-null    bool    \n",
      "dtypes: bool(2), category(2), float64(2), int64(4), object(5)\n",
      "memory usage: 80.7+ KB\n"
     ]
    }
   ],
   "source": [
    "df_titanic.info()"
   ]
  },
  {
   "cell_type": "markdown",
   "metadata": {
    "id": "M6UjJoUQFAfS"
   },
   "source": [
    "### #1.3\n",
    "\n",
    "Obtén el porcentaje de nulos y decide que hacer con las columnas con nulos y ejecútalo. Además deshazte de la columna \"parch\" que no la emplearemos."
   ]
  },
  {
   "cell_type": "code",
   "execution_count": 5,
   "metadata": {
    "colab": {
     "base_uri": "https://localhost:8080/",
     "height": 554
    },
    "executionInfo": {
     "elapsed": 461,
     "status": "ok",
     "timestamp": 1732987234633,
     "user": {
      "displayName": "Sergio Risueño",
      "userId": "05954324726416345958"
     },
     "user_tz": -60
    },
    "id": "9jJjd3l2FAfT",
    "outputId": "7bfb23c5-25a8-48e9-d58d-67b088bf8b78"
   },
   "outputs": [
    {
     "data": {
      "text/plain": [
       "survived        0.000000\n",
       "pclass          0.000000\n",
       "sex             0.000000\n",
       "age            19.865320\n",
       "sibsp           0.000000\n",
       "parch           0.000000\n",
       "fare            0.000000\n",
       "embarked        0.224467\n",
       "class           0.000000\n",
       "who             0.000000\n",
       "adult_male      0.000000\n",
       "deck           77.216611\n",
       "embark_town     0.224467\n",
       "alive           0.000000\n",
       "alone           0.000000\n",
       "dtype: float64"
      ]
     },
     "execution_count": 5,
     "metadata": {},
     "output_type": "execute_result"
    }
   ],
   "source": [
    "df_titanic.isna().sum()/len(df_titanic)*100"
   ]
  },
  {
   "cell_type": "code",
   "execution_count": 6,
   "metadata": {
    "id": "uG6EbUJzFuwZ"
   },
   "outputs": [],
   "source": [
    "#La columna \"deck\" tiene demasiados nulos, por lo que la vamos a eliminar.\n",
    "#La columna \"age\" vamos a completarla con el valor medio\n",
    "#La columna embark_town, vamos a completarla con la moda"
   ]
  },
  {
   "cell_type": "code",
   "execution_count": 7,
   "metadata": {
    "executionInfo": {
     "elapsed": 201,
     "status": "ok",
     "timestamp": 1732987388870,
     "user": {
      "displayName": "Sergio Risueño",
      "userId": "05954324726416345958"
     },
     "user_tz": -60
    },
    "id": "W1LVDK0kF67j"
   },
   "outputs": [],
   "source": [
    "df_titanic.drop([\"deck\",\"parch\"], axis = 1, inplace = True)\n",
    "df_titanic[\"age\"] = df_titanic[\"age\"].fillna(df_titanic[\"age\"].mean())\n",
    "df_titanic[\"embark_town\"] = df_titanic[\"embark_town\"].fillna(df_titanic[\"embark_town\"].mode())"
   ]
  },
  {
   "cell_type": "code",
   "execution_count": 8,
   "metadata": {
    "colab": {
     "base_uri": "https://localhost:8080/",
     "height": 143
    },
    "executionInfo": {
     "elapsed": 208,
     "status": "ok",
     "timestamp": 1732987411124,
     "user": {
      "displayName": "Sergio Risueño",
      "userId": "05954324726416345958"
     },
     "user_tz": -60
    },
    "id": "KZEjcTVOGS8L",
    "outputId": "a2690884-d79f-4d50-a35e-d4224baf64ce"
   },
   "outputs": [
    {
     "data": {
      "text/html": [
       "<div>\n",
       "<style scoped>\n",
       "    .dataframe tbody tr th:only-of-type {\n",
       "        vertical-align: middle;\n",
       "    }\n",
       "\n",
       "    .dataframe tbody tr th {\n",
       "        vertical-align: top;\n",
       "    }\n",
       "\n",
       "    .dataframe thead th {\n",
       "        text-align: right;\n",
       "    }\n",
       "</style>\n",
       "<table border=\"1\" class=\"dataframe\">\n",
       "  <thead>\n",
       "    <tr style=\"text-align: right;\">\n",
       "      <th></th>\n",
       "      <th>survived</th>\n",
       "      <th>pclass</th>\n",
       "      <th>sex</th>\n",
       "      <th>age</th>\n",
       "      <th>sibsp</th>\n",
       "      <th>fare</th>\n",
       "      <th>embarked</th>\n",
       "      <th>class</th>\n",
       "      <th>who</th>\n",
       "      <th>adult_male</th>\n",
       "      <th>embark_town</th>\n",
       "      <th>alive</th>\n",
       "      <th>alone</th>\n",
       "    </tr>\n",
       "  </thead>\n",
       "  <tbody>\n",
       "    <tr>\n",
       "      <th>0</th>\n",
       "      <td>0</td>\n",
       "      <td>3</td>\n",
       "      <td>male</td>\n",
       "      <td>22.0</td>\n",
       "      <td>1</td>\n",
       "      <td>7.2500</td>\n",
       "      <td>S</td>\n",
       "      <td>Third</td>\n",
       "      <td>man</td>\n",
       "      <td>True</td>\n",
       "      <td>Southampton</td>\n",
       "      <td>no</td>\n",
       "      <td>False</td>\n",
       "    </tr>\n",
       "    <tr>\n",
       "      <th>1</th>\n",
       "      <td>1</td>\n",
       "      <td>1</td>\n",
       "      <td>female</td>\n",
       "      <td>38.0</td>\n",
       "      <td>1</td>\n",
       "      <td>71.2833</td>\n",
       "      <td>C</td>\n",
       "      <td>First</td>\n",
       "      <td>woman</td>\n",
       "      <td>False</td>\n",
       "      <td>Cherbourg</td>\n",
       "      <td>yes</td>\n",
       "      <td>False</td>\n",
       "    </tr>\n",
       "    <tr>\n",
       "      <th>2</th>\n",
       "      <td>1</td>\n",
       "      <td>3</td>\n",
       "      <td>female</td>\n",
       "      <td>26.0</td>\n",
       "      <td>0</td>\n",
       "      <td>7.9250</td>\n",
       "      <td>S</td>\n",
       "      <td>Third</td>\n",
       "      <td>woman</td>\n",
       "      <td>False</td>\n",
       "      <td>Southampton</td>\n",
       "      <td>yes</td>\n",
       "      <td>True</td>\n",
       "    </tr>\n",
       "  </tbody>\n",
       "</table>\n",
       "</div>"
      ],
      "text/plain": [
       "   survived  pclass     sex   age  sibsp     fare embarked  class    who  \\\n",
       "0         0       3    male  22.0      1   7.2500        S  Third    man   \n",
       "1         1       1  female  38.0      1  71.2833        C  First  woman   \n",
       "2         1       3  female  26.0      0   7.9250        S  Third  woman   \n",
       "\n",
       "   adult_male  embark_town alive  alone  \n",
       "0        True  Southampton    no  False  \n",
       "1       False    Cherbourg   yes  False  \n",
       "2       False  Southampton   yes   True  "
      ]
     },
     "execution_count": 8,
     "metadata": {},
     "output_type": "execute_result"
    }
   ],
   "source": [
    "df_titanic.head(3)"
   ]
  },
  {
   "cell_type": "markdown",
   "metadata": {
    "id": "8j9SUlylFAfT"
   },
   "source": [
    "### #1.4\n",
    "Sobre el dataset \"limpio\". Rellena la tabla de descripción (muy breve) de lo que es cada columna en función de su nombre y los valores. Para ayudarte:\n",
    "* Se trata del dataset que reune lo más parecido a un manifiesto de supervivientes y fallecidos en el viaje.\n",
    "* sibsp: Es el numero de familiares que viajan con la persona indicada en el manifiesto (lista de pasajeros)\n",
    "* embarked: Es la incial de la letra de la ciudad donde embarcó la persona.\n"
   ]
  },
  {
   "cell_type": "markdown",
   "metadata": {
    "id": "O2HpFgKIFAfT"
   },
   "source": [
    "\n",
    "\n",
    "| Columna/Variable | Descripción |\n",
    "| ---------------- | ----------- |\n",
    "| surived       | variable binaria que indica si la persona sobrevivió |\n",
    "| pclass       | clase económica en la que viajaba el pasajero|\n",
    "| sex       | sexo del pasajero |\n",
    "| age       | edad del pasajero |\n",
    "| sibsp       | número de familiares a bordo |\n",
    "| fare       | precio que pagó por el billete |\n",
    "| embarked       | equivalente a embark town |\n",
    "| class       | equivalente a pcclass pero en texto |\n",
    "| who       | equivalente a sex |\n",
    "| adult_male       | si era un hombre adulto |\n",
    "| alive       | si el pasajero sigue vivo en la actualidad |\n",
    "| alone       | si el pasajero viajaba solo |\n"
   ]
  },
  {
   "cell_type": "markdown",
   "metadata": {
    "id": "Z4Ky8AHQFAfT"
   },
   "source": [
    "### #1.5\n",
    "\n",
    "Busca en internet las tres ciudades que visitó el Titanic antes de poner rumbo a su destino y llegar a alta mar. Cambia las iniciales por esos valores."
   ]
  },
  {
   "cell_type": "code",
   "execution_count": 9,
   "metadata": {
    "id": "5YR0_GyTFAfT"
   },
   "outputs": [],
   "source": [
    "#Vienen en el dataframe como otra columna. Son Southampton, Cherbourg y Queenstown"
   ]
  },
  {
   "cell_type": "code",
   "execution_count": 10,
   "metadata": {
    "executionInfo": {
     "elapsed": 222,
     "status": "ok",
     "timestamp": 1732988039043,
     "user": {
      "displayName": "Sergio Risueño",
      "userId": "05954324726416345958"
     },
     "user_tz": -60
    },
    "id": "0M9J9OfxIG2p"
   },
   "outputs": [],
   "source": [
    "df_titanic.drop(\"embark_town\", axis = 1, inplace = True)\n",
    "\n",
    "def cambio_ciudad(letra):\n",
    "  if letra == \"S\":\n",
    "    return \"Southampton\"\n",
    "  elif letra ==\"Q\":\n",
    "    return \"Queenstown\"\n",
    "  elif letra ==\"C\":\n",
    "    return \"Cherbourg\""
   ]
  },
  {
   "cell_type": "code",
   "execution_count": 11,
   "metadata": {
    "executionInfo": {
     "elapsed": 4,
     "status": "ok",
     "timestamp": 1732988075037,
     "user": {
      "displayName": "Sergio Risueño",
      "userId": "05954324726416345958"
     },
     "user_tz": -60
    },
    "id": "gQhmjGcWIvQr"
   },
   "outputs": [],
   "source": [
    "df_titanic[\"embarked\"] = df_titanic[\"embarked\"].apply(cambio_ciudad)"
   ]
  },
  {
   "cell_type": "code",
   "execution_count": 12,
   "metadata": {
    "colab": {
     "base_uri": "https://localhost:8080/",
     "height": 209
    },
    "executionInfo": {
     "elapsed": 218,
     "status": "ok",
     "timestamp": 1732988090700,
     "user": {
      "displayName": "Sergio Risueño",
      "userId": "05954324726416345958"
     },
     "user_tz": -60
    },
    "id": "O-BfTsPyI4ON",
    "outputId": "24e9c7fb-8c14-430b-dc4c-5f46da638f45"
   },
   "outputs": [
    {
     "data": {
      "text/plain": [
       "embarked\n",
       "Southampton    644\n",
       "Cherbourg      168\n",
       "Queenstown      77\n",
       "Name: count, dtype: int64"
      ]
     },
     "execution_count": 12,
     "metadata": {},
     "output_type": "execute_result"
    }
   ],
   "source": [
    "df_titanic[\"embarked\"].value_counts()"
   ]
  },
  {
   "cell_type": "markdown",
   "metadata": {
    "id": "I0vLbVjzFAfT"
   },
   "source": [
    "### #2 Análisis\n",
    "\n",
    "Sabiendo que el objetivo de nuestro análisis es hacer un estudio de la superviviencia y mortalidad en el viaje... Haz un análisis univariante completo y ordenado de las siguientes variables:\n",
    "[\"survived\",\"who\",\"age\",\"fare\",\"class\",\"embarked\",\"alone\"]\n",
    "Nota: Si quieres añadir más, perfecto.\n",
    "\n",
    "Separa el análisis en categóricas (incluyendo binarias) y numéricas. Muestra valores, gráficas y conclusiones/observaciones (2 o 3 por variable)"
   ]
  },
  {
   "cell_type": "markdown",
   "metadata": {
    "id": "ws1v5HNvFAfT"
   },
   "source": [
    "### #2.1 Categóricas"
   ]
  },
  {
   "cell_type": "code",
   "execution_count": 13,
   "metadata": {
    "colab": {
     "base_uri": "https://localhost:8080/"
    },
    "executionInfo": {
     "elapsed": 195,
     "status": "ok",
     "timestamp": 1732988173876,
     "user": {
      "displayName": "Sergio Risueño",
      "userId": "05954324726416345958"
     },
     "user_tz": -60
    },
    "id": "Yf-q4X7oFAfT",
    "outputId": "9d6545f8-f4a9-4d51-f6ea-3ef21407b4cd"
   },
   "outputs": [
    {
     "name": "stdout",
     "output_type": "stream",
     "text": [
      "<class 'pandas.core.frame.DataFrame'>\n",
      "RangeIndex: 891 entries, 0 to 890\n",
      "Data columns (total 7 columns):\n",
      " #   Column    Non-Null Count  Dtype   \n",
      "---  ------    --------------  -----   \n",
      " 0   survived  891 non-null    int64   \n",
      " 1   who       891 non-null    object  \n",
      " 2   age       891 non-null    float64 \n",
      " 3   fare      891 non-null    float64 \n",
      " 4   class     891 non-null    category\n",
      " 5   embarked  889 non-null    object  \n",
      " 6   alone     891 non-null    bool    \n",
      "dtypes: bool(1), category(1), float64(2), int64(1), object(2)\n",
      "memory usage: 36.8+ KB\n"
     ]
    }
   ],
   "source": [
    "df_titanic = df_titanic[[\"survived\",\"who\",\"age\",\"fare\",\"class\",\"embarked\",\"alone\"]]\n",
    "df_titanic.info()"
   ]
  },
  {
   "cell_type": "code",
   "execution_count": 14,
   "metadata": {
    "executionInfo": {
     "elapsed": 495,
     "status": "ok",
     "timestamp": 1732990486079,
     "user": {
      "displayName": "Sergio Risueño",
      "userId": "05954324726416345958"
     },
     "user_tz": -60
    },
    "id": "vovtPfveR9ha"
   },
   "outputs": [],
   "source": [
    "#Convertimos survived a tipo bool:\n",
    "df_titanic[\"survived\"] = df_titanic[\"survived\"].astype(bool)"
   ]
  },
  {
   "cell_type": "code",
   "execution_count": 15,
   "metadata": {
    "executionInfo": {
     "elapsed": 229,
     "status": "ok",
     "timestamp": 1732990488060,
     "user": {
      "displayName": "Sergio Risueño",
      "userId": "05954324726416345958"
     },
     "user_tz": -60
    },
    "id": "Sj7XAbYNJIZS"
   },
   "outputs": [],
   "source": [
    "#Creamos tres dataset para cada tipo de datos\n",
    "categoricas = df_titanic.select_dtypes([\"object\",\"category\"])\n",
    "numericas = df_titanic.select_dtypes(\"number\")\n",
    "binarias = df_titanic.select_dtypes(\"bool\")"
   ]
  },
  {
   "cell_type": "code",
   "execution_count": 16,
   "metadata": {
    "colab": {
     "base_uri": "https://localhost:8080/"
    },
    "executionInfo": {
     "elapsed": 437,
     "status": "ok",
     "timestamp": 1732990490138,
     "user": {
      "displayName": "Sergio Risueño",
      "userId": "05954324726416345958"
     },
     "user_tz": -60
    },
    "id": "AaJaGczNNtLi",
    "outputId": "5ef96567-aad8-4c65-9c06-32531e9f0bf7"
   },
   "outputs": [
    {
     "name": "stdout",
     "output_type": "stream",
     "text": [
      "Valores de la variable who\n",
      "who\n",
      "man      537\n",
      "woman    271\n",
      "child     83\n",
      "Name: count, dtype: int64\n",
      "\n",
      "Valores relativos\n",
      "who\n",
      "man      0.602694\n",
      "woman    0.304153\n",
      "child    0.093154\n",
      "Name: proportion, dtype: float64\n",
      "\n",
      "---------------------\n",
      "\n",
      "Valores de la variable class\n",
      "class\n",
      "Third     491\n",
      "First     216\n",
      "Second    184\n",
      "Name: count, dtype: int64\n",
      "\n",
      "Valores relativos\n",
      "class\n",
      "Third     0.551066\n",
      "First     0.242424\n",
      "Second    0.206510\n",
      "Name: proportion, dtype: float64\n",
      "\n",
      "---------------------\n",
      "\n",
      "Valores de la variable embarked\n",
      "embarked\n",
      "Southampton    644\n",
      "Cherbourg      168\n",
      "Queenstown      77\n",
      "Name: count, dtype: int64\n",
      "\n",
      "Valores relativos\n",
      "embarked\n",
      "Southampton    0.724409\n",
      "Cherbourg      0.188976\n",
      "Queenstown     0.086614\n",
      "Name: proportion, dtype: float64\n",
      "\n",
      "---------------------\n",
      "\n"
     ]
    }
   ],
   "source": [
    "for categorica in categoricas.columns:\n",
    "  print(\"Valores de la variable\", categorica)\n",
    "  print(categoricas[categorica].value_counts())\n",
    "  print()\n",
    "  print(\"Valores relativos\")\n",
    "  print(categoricas[categorica].value_counts(True))\n",
    "  print()\n",
    "  print(\"---------------------\")\n",
    "  print()"
   ]
  },
  {
   "cell_type": "code",
   "execution_count": 17,
   "metadata": {
    "colab": {
     "base_uri": "https://localhost:8080/",
     "height": 850
    },
    "executionInfo": {
     "elapsed": 1074,
     "status": "ok",
     "timestamp": 1732990030645,
     "user": {
      "displayName": "Sergio Risueño",
      "userId": "05954324726416345958"
     },
     "user_tz": -60
    },
    "id": "-7oaYlCGOWzo",
    "outputId": "e3bb39ee-f34e-483d-f813-e0b2e221c57b"
   },
   "outputs": [
    {
     "data": {
      "image/png": "[encoded data removed]",
      "text/plain": [
       "<Figure size 500x1000 with 3 Axes>"
      ]
     },
     "metadata": {},
     "output_type": "display_data"
    }
   ],
   "source": [
    "fig, ax = plt.subplots(3,1, figsize = (5,10))\n",
    "for index, columna in enumerate(categoricas.columns):\n",
    "  sns.countplot(data = df_titanic, x = columna, ax = ax[index], hue = df_titanic[\"survived\"])"
   ]
  },
  {
   "cell_type": "code",
   "execution_count": 18,
   "metadata": {
    "colab": {
     "base_uri": "https://localhost:8080/",
     "height": 405
    },
    "executionInfo": {
     "elapsed": 545,
     "status": "ok",
     "timestamp": 1732990281956,
     "user": {
      "displayName": "Sergio Risueño",
      "userId": "05954324726416345958"
     },
     "user_tz": -60
    },
    "id": "6l9LmTojQ-3K",
    "outputId": "1d6f1dd3-f8b5-4a34-8f11-e96a82942668"
   },
   "outputs": [
    {
     "data": {
      "text/plain": [
       "[]"
      ]
     },
     "execution_count": 18,
     "metadata": {},
     "output_type": "execute_result"
    },
    {
     "data": {
      "image/png": "[encoded data removed]",
      "text/plain": [
       "<Figure size 400x400 with 1 Axes>"
      ]
     },
     "metadata": {},
     "output_type": "display_data"
    }
   ],
   "source": [
    "plt.figure(figsize=(4,4))\n",
    "sns.countplot(data = df_titanic, x = \"embarked\", hue = \"class\")\n",
    "plt.plot()"
   ]
  },
  {
   "cell_type": "markdown",
   "metadata": {
    "id": "xGyjHpfHQZjR"
   },
   "source": [
    "Del los gráficos anteriores se puede observar lo siguiente:  \n",
    "- En el barco había más hombres viajando que mujeres. Aún así, se salvaron  más mujeres que hombres tanto de forma relativa como absoluta.  \n",
    "-Había pocos niños, pero se salvaron en porcentaje relativo en mayor medida que los hombres\n",
    "- Viajaban más personas en tercera clase que en las anteriores. Sin embargo,  se salvaron más personas de segunda y primera clase tanto de forma relativa como absoluta.  \n",
    "- Embarcaron muchas más personas en Southampton. De forma relativa, se salvaron  más personas si embarcaban en Cherbourg. Esto puede deberse,  como se ve en el último gráfico, a que más personas de primera clase embarcaron en este puerto"
   ]
  },
  {
   "cell_type": "markdown",
   "metadata": {
    "id": "Ri1DTJ5LFAfT"
   },
   "source": [
    "### #2.2 Numéricas"
   ]
  },
  {
   "cell_type": "markdown",
   "metadata": {
    "id": "Vu9j9gKoQZEP"
   },
   "source": []
  },
  {
   "cell_type": "code",
   "execution_count": 19,
   "metadata": {
    "colab": {
     "base_uri": "https://localhost:8080/",
     "height": 300
    },
    "executionInfo": {
     "elapsed": 224,
     "status": "ok",
     "timestamp": 1732990662173,
     "user": {
      "displayName": "Sergio Risueño",
      "userId": "05954324726416345958"
     },
     "user_tz": -60
    },
    "id": "NA0d5kc_FAfT",
    "outputId": "0135ae58-335c-42e1-ecde-4140f7b684b3"
   },
   "outputs": [
    {
     "data": {
      "text/html": [
       "<div>\n",
       "<style scoped>\n",
       "    .dataframe tbody tr th:only-of-type {\n",
       "        vertical-align: middle;\n",
       "    }\n",
       "\n",
       "    .dataframe tbody tr th {\n",
       "        vertical-align: top;\n",
       "    }\n",
       "\n",
       "    .dataframe thead th {\n",
       "        text-align: right;\n",
       "    }\n",
       "</style>\n",
       "<table border=\"1\" class=\"dataframe\">\n",
       "  <thead>\n",
       "    <tr style=\"text-align: right;\">\n",
       "      <th></th>\n",
       "      <th>age</th>\n",
       "      <th>fare</th>\n",
       "    </tr>\n",
       "  </thead>\n",
       "  <tbody>\n",
       "    <tr>\n",
       "      <th>count</th>\n",
       "      <td>342.000000</td>\n",
       "      <td>342.000000</td>\n",
       "    </tr>\n",
       "    <tr>\n",
       "      <th>mean</th>\n",
       "      <td>28.549778</td>\n",
       "      <td>48.395408</td>\n",
       "    </tr>\n",
       "    <tr>\n",
       "      <th>std</th>\n",
       "      <td>13.772498</td>\n",
       "      <td>66.596998</td>\n",
       "    </tr>\n",
       "    <tr>\n",
       "      <th>min</th>\n",
       "      <td>0.420000</td>\n",
       "      <td>0.000000</td>\n",
       "    </tr>\n",
       "    <tr>\n",
       "      <th>25%</th>\n",
       "      <td>21.000000</td>\n",
       "      <td>12.475000</td>\n",
       "    </tr>\n",
       "    <tr>\n",
       "      <th>50%</th>\n",
       "      <td>29.699118</td>\n",
       "      <td>26.000000</td>\n",
       "    </tr>\n",
       "    <tr>\n",
       "      <th>75%</th>\n",
       "      <td>35.000000</td>\n",
       "      <td>57.000000</td>\n",
       "    </tr>\n",
       "    <tr>\n",
       "      <th>max</th>\n",
       "      <td>80.000000</td>\n",
       "      <td>512.329200</td>\n",
       "    </tr>\n",
       "  </tbody>\n",
       "</table>\n",
       "</div>"
      ],
      "text/plain": [
       "              age        fare\n",
       "count  342.000000  342.000000\n",
       "mean    28.549778   48.395408\n",
       "std     13.772498   66.596998\n",
       "min      0.420000    0.000000\n",
       "25%     21.000000   12.475000\n",
       "50%     29.699118   26.000000\n",
       "75%     35.000000   57.000000\n",
       "max     80.000000  512.329200"
      ]
     },
     "execution_count": 19,
     "metadata": {},
     "output_type": "execute_result"
    }
   ],
   "source": [
    "numericas[df_titanic[\"survived\"] == True].describe()"
   ]
  },
  {
   "cell_type": "code",
   "execution_count": 20,
   "metadata": {
    "colab": {
     "base_uri": "https://localhost:8080/",
     "height": 300
    },
    "executionInfo": {
     "elapsed": 197,
     "status": "ok",
     "timestamp": 1732990673314,
     "user": {
      "displayName": "Sergio Risueño",
      "userId": "05954324726416345958"
     },
     "user_tz": -60
    },
    "id": "Hk9TShLhSwma",
    "outputId": "2e487904-94de-470f-a22e-8f5781c0fa08"
   },
   "outputs": [
    {
     "data": {
      "text/html": [
       "<div>\n",
       "<style scoped>\n",
       "    .dataframe tbody tr th:only-of-type {\n",
       "        vertical-align: middle;\n",
       "    }\n",
       "\n",
       "    .dataframe tbody tr th {\n",
       "        vertical-align: top;\n",
       "    }\n",
       "\n",
       "    .dataframe thead th {\n",
       "        text-align: right;\n",
       "    }\n",
       "</style>\n",
       "<table border=\"1\" class=\"dataframe\">\n",
       "  <thead>\n",
       "    <tr style=\"text-align: right;\">\n",
       "      <th></th>\n",
       "      <th>age</th>\n",
       "      <th>fare</th>\n",
       "    </tr>\n",
       "  </thead>\n",
       "  <tbody>\n",
       "    <tr>\n",
       "      <th>count</th>\n",
       "      <td>549.000000</td>\n",
       "      <td>549.000000</td>\n",
       "    </tr>\n",
       "    <tr>\n",
       "      <th>mean</th>\n",
       "      <td>30.415100</td>\n",
       "      <td>22.117887</td>\n",
       "    </tr>\n",
       "    <tr>\n",
       "      <th>std</th>\n",
       "      <td>12.457370</td>\n",
       "      <td>31.388207</td>\n",
       "    </tr>\n",
       "    <tr>\n",
       "      <th>min</th>\n",
       "      <td>1.000000</td>\n",
       "      <td>0.000000</td>\n",
       "    </tr>\n",
       "    <tr>\n",
       "      <th>25%</th>\n",
       "      <td>23.000000</td>\n",
       "      <td>7.854200</td>\n",
       "    </tr>\n",
       "    <tr>\n",
       "      <th>50%</th>\n",
       "      <td>29.699118</td>\n",
       "      <td>10.500000</td>\n",
       "    </tr>\n",
       "    <tr>\n",
       "      <th>75%</th>\n",
       "      <td>35.000000</td>\n",
       "      <td>26.000000</td>\n",
       "    </tr>\n",
       "    <tr>\n",
       "      <th>max</th>\n",
       "      <td>74.000000</td>\n",
       "      <td>263.000000</td>\n",
       "    </tr>\n",
       "  </tbody>\n",
       "</table>\n",
       "</div>"
      ],
      "text/plain": [
       "              age        fare\n",
       "count  549.000000  549.000000\n",
       "mean    30.415100   22.117887\n",
       "std     12.457370   31.388207\n",
       "min      1.000000    0.000000\n",
       "25%     23.000000    7.854200\n",
       "50%     29.699118   10.500000\n",
       "75%     35.000000   26.000000\n",
       "max     74.000000  263.000000"
      ]
     },
     "execution_count": 20,
     "metadata": {},
     "output_type": "execute_result"
    }
   ],
   "source": [
    "numericas[df_titanic[\"survived\"] == False].describe()"
   ]
  },
  {
   "cell_type": "code",
   "execution_count": 21,
   "metadata": {
    "colab": {
     "base_uri": "https://localhost:8080/",
     "height": 850
    },
    "executionInfo": {
     "elapsed": 1532,
     "status": "ok",
     "timestamp": 1732990719336,
     "user": {
      "displayName": "Sergio Risueño",
      "userId": "05954324726416345958"
     },
     "user_tz": -60
    },
    "id": "Om99UwSrSJUA",
    "outputId": "0af05b42-0af8-446f-e2ed-ac10b9cbf1dd"
   },
   "outputs": [
    {
     "data": {
      "image/png": "[encoded data removed]",
      "text/plain": [
       "<Figure size 1000x1000 with 2 Axes>"
      ]
     },
     "metadata": {},
     "output_type": "display_data"
    }
   ],
   "source": [
    "fig, ax = plt.subplots(2,1, figsize = (10,10))\n",
    "for index, columna in enumerate(numericas.columns):\n",
    "  sns.histplot(data = df_titanic, x = columna, ax = ax[index], kde=True, bins = 10)"
   ]
  },
  {
   "cell_type": "code",
   "execution_count": 22,
   "metadata": {
    "colab": {
     "base_uri": "https://localhost:8080/",
     "height": 850
    },
    "executionInfo": {
     "elapsed": 1172,
     "status": "ok",
     "timestamp": 1732990728856,
     "user": {
      "displayName": "Sergio Risueño",
      "userId": "05954324726416345958"
     },
     "user_tz": -60
    },
    "id": "gN60Mgk6Sapy",
    "outputId": "cc3e6f6f-2789-49fb-e3d1-ea2f1524497d"
   },
   "outputs": [
    {
     "data": {
      "image/png": "[encoded data removed]",
      "text/plain": [
       "<Figure size 1000x1000 with 2 Axes>"
      ]
     },
     "metadata": {},
     "output_type": "display_data"
    }
   ],
   "source": [
    "fig, ax = plt.subplots(2,1, figsize = (10,10))\n",
    "for index, columna in enumerate(numericas.columns):\n",
    "  sns.histplot(data = df_titanic, x = columna, ax = ax[index], kde=True, hue = \"survived\", bins = 10)"
   ]
  },
  {
   "cell_type": "markdown",
   "metadata": {
    "id": "sJrhSpy0cdlM"
   },
   "source": [
    "De las variables numéricas se puede decir:\n",
    "- El número de pasajeros se concentra en torno a los 25-30 años. La media de edad de la gente que sobrevive es menor que los que no sobreviven. Esto puede deberse al mayor porcentaje de niños que se salva, lo cual tambien puede verse en el gráfico al ser el único grupo en el que el color naranja queda por encima.\n",
    "- La frecuencia del billete del billete pagado disminuye con el precio. Esto se corresponde con la distribuución de la categórica \"Clase\" visto antes. Al destacar el color naranja, se puede ver que la gente que ha pagado una mayor tarifa tiene mayor probabilidad de sobrevivir, lo que cuadra con lo observado en el analisis de las categoricas."
   ]
  },
  {
   "cell_type": "code",
   "execution_count": 23,
   "metadata": {
    "colab": {
     "base_uri": "https://localhost:8080/",
     "height": 482
    },
    "executionInfo": {
     "elapsed": 472,
     "status": "ok",
     "timestamp": 1732993649078,
     "user": {
      "displayName": "Sergio Risueño",
      "userId": "05954324726416345958"
     },
     "user_tz": -60
    },
    "id": "5wr55JTDdukt",
    "outputId": "e5ca1133-a5af-48f3-bf68-cf292cdb86dd"
   },
   "outputs": [
    {
     "data": {
      "text/plain": [
       "[]"
      ]
     },
     "execution_count": 23,
     "metadata": {},
     "output_type": "execute_result"
    },
    {
     "data": {
      "image/png": "[encoded data removed]",
      "text/plain": [
       "<Figure size 500x500 with 1 Axes>"
      ]
     },
     "metadata": {},
     "output_type": "display_data"
    }
   ],
   "source": [
    "plt.figure(figsize=(5,5))\n",
    "sns.countplot(data = df_titanic, x = \"alone\", hue = \"survived\")\n",
    "plt.plot()"
   ]
  },
  {
   "cell_type": "code",
   "execution_count": 24,
   "metadata": {
    "colab": {
     "base_uri": "https://localhost:8080/",
     "height": 328
    },
    "executionInfo": {
     "elapsed": 508,
     "status": "ok",
     "timestamp": 1732993771653,
     "user": {
      "displayName": "Sergio Risueño",
      "userId": "05954324726416345958"
     },
     "user_tz": -60
    },
    "id": "_T4n6T9pefZX",
    "outputId": "c7e94eb3-288d-44c1-fdd4-a23467500d49"
   },
   "outputs": [
    {
     "data": {
      "text/plain": [
       "[]"
      ]
     },
     "execution_count": 24,
     "metadata": {},
     "output_type": "execute_result"
    },
    {
     "data": {
      "image/png": "[encoded data removed]",
      "text/plain": [
       "<Figure size 300x300 with 1 Axes>"
      ]
     },
     "metadata": {},
     "output_type": "display_data"
    }
   ],
   "source": [
    "plt.figure(figsize=(3,3))\n",
    "sns.countplot(data = df_titanic, x = \"who\", hue = \"alone\")\n",
    "plt.plot()"
   ]
  },
  {
   "cell_type": "markdown",
   "metadata": {
    "id": "WZ0ZmBA7eKAV"
   },
   "source": [
    "Por último, analizando la variable booleana \"alone\", vamos que era más proabable sobrevivir si se viajaba con familia que solo. Esto realmente se debe a que los niños y las mujeres, que eran los que más sobrevivían,  no viajaban solos en mayor medida."
   ]
  }
 ],
 "metadata": {
  "colab": {
   "provenance": [
    {
     "file_id": "1K7fLCbxjcSQBy0M_1VGhNvjLdS1blims",
     "timestamp": 1732993858271
    }
   ]
  },
  "kernelspec": {
   "display_name": "Python 3",
   "language": "python",
   "name": "python3"
  },
  "language_info": {
   "codemirror_mode": {
    "name": "ipython",
    "version": 3
   },
   "file_extension": ".py",
   "mimetype": "text/x-python",
   "name": "python",
   "nbconvert_exporter": "python",
   "pygments_lexer": "ipython3",
   "version": "3.13.0"
  },
  "vscode": {
   "interpreter": {
    "hash": "ec2a379ed5c25334a484232182c9d38ef8bd9861e2542d0c517568c4f99a9a7c"
   }
  }
 },
 "nbformat": 4,
 "nbformat_minor": 0
}
